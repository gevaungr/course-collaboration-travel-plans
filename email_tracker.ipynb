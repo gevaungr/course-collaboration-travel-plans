{
  "nbformat": 4,
  "nbformat_minor": 0,
  "metadata": {
    "colab": {
      "name": "email_tracker.ipynb",
      "provenance": [],
      "mount_file_id": "1XAa0nKKbbu_KFaaDVIWQ-1yDYbdW1MbF",
      "authorship_tag": "ABX9TyNJUizw5ga1jvDcu2Xep0F5",
      "include_colab_link": true
    },
    "kernelspec": {
      "name": "python3",
      "display_name": "Python 3"
    },
    "language_info": {
      "name": "python"
    }
  },
  "cells": [
    {
      "cell_type": "markdown",
      "metadata": {
        "id": "view-in-github",
        "colab_type": "text"
      },
      "source": [
        "<a href=\"https://colab.research.google.com/github/gevaungr/course-collaboration-travel-plans/blob/master/email_tracker.ipynb\" target=\"_parent\"><img src=\"https://colab.research.google.com/assets/colab-badge.svg\" alt=\"Open In Colab\"/></a>"
      ]
    },
    {
      "cell_type": "markdown",
      "metadata": {
        "id": "Han_vSjefh1N"
      },
      "source": [
        "#Email Tracker"
      ]
    },
    {
      "cell_type": "markdown",
      "metadata": {
        "id": "rlXkCRk9Jbog"
      },
      "source": [
        "Email tracker to process outlook messages get the the time the email came in, the subject."
      ]
    },
    {
      "cell_type": "markdown",
      "metadata": {
        "id": "gxTWggrqf7qD"
      },
      "source": [
        "\n",
        "##The Code"
      ]
    },
    {
      "cell_type": "markdown",
      "metadata": {
        "id": "HYAUegg_wdrm"
      },
      "source": [
        ""
      ]
    },
    {
      "cell_type": "code",
      "metadata": {
        "id": "HXByRqYqJIKl"
      },
      "source": [
        "# Install packages (--quiet removes the output)\n",
        "!pip install extract-msg --quiet"
      ],
      "execution_count": null,
      "outputs": []
    },
    {
      "cell_type": "markdown",
      "metadata": {
        "id": "N8BfGk-1l0Bd"
      },
      "source": [
        "TODO:\n",
        "<br>Move processed email files to the archive"
      ]
    },
    {
      "cell_type": "code",
      "metadata": {
        "id": "8IUtj0gwb20y"
      },
      "source": [
        "# Import libraries\n",
        "import extract_msg\n",
        "import os\n",
        "import pprint"
      ],
      "execution_count": null,
      "outputs": []
    },
    {
      "cell_type": "code",
      "metadata": {
        "colab": {
          "base_uri": "https://localhost:8080/"
        },
        "id": "bAwyHAlPL0hj",
        "outputId": "f8d36094-248c-4d55-8f0c-1a039647c457"
      },
      "source": [
        "# Create folders needed to process\n",
        "try:\n",
        "  try:\n",
        "    os.mkdir(\"emails\")\n",
        "    print(\"Emails folder created\")\n",
        "  except FileExistsError:\n",
        "    print(\"Emails folder already exits\")\n",
        "  try:\n",
        "    os.mkdir(\"emails/archive\")\n",
        "    print(\"Archive folder created\")\n",
        "  except FileExistsError:\n",
        "      print(\"Archive folder already exists\")\n",
        "except:\n",
        "  print(\"Folders were not created\")"
      ],
      "execution_count": null,
      "outputs": [
        {
          "output_type": "stream",
          "name": "stdout",
          "text": [
            "Emails folder created\n",
            "Archive folder created\n"
          ]
        }
      ]
    },
    {
      "cell_type": "code",
      "metadata": {
        "id": "n0uhG6Ncwuzh"
      },
      "source": [
        "# Location of the email files\n",
        "email_loca = 'emails/'\n",
        "archive = email_loca + 'archive/'"
      ],
      "execution_count": null,
      "outputs": []
    },
    {
      "cell_type": "code",
      "metadata": {
        "colab": {
          "base_uri": "https://localhost:8080/"
        },
        "id": "O67BeuU-Htxj",
        "outputId": "17c91998-b693-4437-ca8a-05d5cb332f2a"
      },
      "source": [
        "# Test \n",
        "print(email_loca)\n",
        "print(archive)"
      ],
      "execution_count": null,
      "outputs": [
        {
          "output_type": "stream",
          "name": "stdout",
          "text": [
            "emails/\n",
            "emails/archive/\n"
          ]
        }
      ]
    },
    {
      "cell_type": "code",
      "metadata": {
        "colab": {
          "base_uri": "https://localhost:8080/"
        },
        "id": "ImP5ACTn2SsU",
        "outputId": "ca02fcd7-057a-44c2-c744-ab3e91d16ad7"
      },
      "source": [
        "emails = [files for root, dirs, files in os.walk(email_loca)]\n",
        "# File comprehension to condense list\n",
        "emails = [file for i in [file for file in emails] for file in i]\n",
        "pprint.pprint(emails)"
      ],
      "execution_count": null,
      "outputs": [
        {
          "output_type": "stream",
          "name": "stdout",
          "text": [
            "['Do it fast with Photoshop.msg',\n",
            " 'Offer ends tonight_ Save 25%.msg',\n",
            " 'Craft winning creative with free videos and motion_.msg']\n"
          ]
        }
      ]
    },
    {
      "cell_type": "markdown",
      "metadata": {
        "id": "6HNeyStGbX4a"
      },
      "source": [
        "Test"
      ]
    },
    {
      "cell_type": "code",
      "metadata": {
        "id": "Hz17UyfLlXGy"
      },
      "source": [
        "# Test\n",
        "for email in emails:\n",
        "  print(email_loca+email)"
      ],
      "execution_count": null,
      "outputs": []
    },
    {
      "cell_type": "code",
      "metadata": {
        "colab": {
          "base_uri": "https://localhost:8080/"
        },
        "id": "Vr_I2ECHT2wN",
        "outputId": "cecb1677-edb9-40bc-cf91-2af709053569"
      },
      "source": [
        "email_counter = 0 \n",
        "for email in emails:\n",
        "  msg = extract_msg.Message(\"emails/\"+email)\n",
        "  email_content[email_counter] = {\"Sender\": msg.sender, \"Date\": msg.date, \"Subject\": msg.subject, \"Body\": msg.body}\n",
        "  email_counter += 1\n",
        "\n",
        "pprint.pprint(email_content[0])"
      ],
      "execution_count": null,
      "outputs": [
        {
          "output_type": "stream",
          "name": "stdout",
          "text": [
            "{'Body': 'Bypass tedious tasks so you can focus on the fun and speed up your '\n",
            "         'work.  \\u200c \\u200c \\u200c \\u200c \\u200c \\u200c \\u200c \\u200c '\n",
            "         '\\u200c \\u200c \\u200c \\u200c \\u200c  \\u200c \\u200c \\u200c \\u200c '\n",
            "         '\\u200c \\u200c \\u200c \\u200c \\u200c \\u200c \\u200c \\u200c \\u200c  '\n",
            "         '\\u200c \\u200c \\u200c \\u200c \\u200c \\u200c \\u200c \\u200c \\u200c '\n",
            "         '\\u200c \\u200c \\u200c \\u200c  \\u200c \\u200c \\u200c \\u200c \\u200c '\n",
            "         '\\u200c \\u200c \\u200c \\u200c \\u200c \\u200c \\u200c \\u200c \\r\\n'\n",
            "         ' '\n",
            "         '<https://landing.adobe.com/dam/global/images/creative-cloud.icon.240x234.png> \\t \\t  '\n",
            "         '<https://s7d9.scene7.com/is/image/AdobeDemandCreative/?fmt=png-alpha&size=400,60&wid=400&textAttr=144,strong&resolution=200&textPs=%7B%5C*%5Ciscolortbl%3BFA0F00%3B%5Cfonttbl%7B%5Cf0%20Adobe%20Clean%20ExtraBold%3B%7D%7D%5Cf0%5Cfs40%5Csl-400%5Cvertalc%5Ckerningoptical%5Ccf1Adobe%20Creative%20Cloud> \\t\\r\\n'\n",
            "         'Save yourself a step.\\t \\r\\n'\n",
            "         'Replace the sky in a snap. Preview and perfect patterns in real '\n",
            "         'time. These six Adobe Photoshop features anticipate your needs, so '\n",
            "         'you can breeze through your project.\\t \\r\\n'\n",
            "         'Learn more '\n",
            "         '<https://t-info.mail.adobe.com/r/?id=h9e60a857,dec0c83d,bd2dcb46&p1=V2XYKV1R>  \\t\\r\\n'\n",
            "         ' '\n",
            "         '<https://t-info.mail.adobe.com/r/?id=h9e60a857,dec0c83d,bd2dcb47&p1=V2XYKV1R> \\t\\r\\n'\n",
            "         'Stay on the cutting edge of creativity. \\t\\r\\n'\n",
            "         'With updates, tools, and resources released regularly, you can count '\n",
            "         'on Photoshop to keep in line with the way you create. Included in '\n",
            "         'the Creative Cloud Photography plan. \\t\\r\\n'\n",
            "         'Get started '\n",
            "         '<https://t-info.mail.adobe.com/r/?id=h9e60a857,dec0c83d,bd2dcb48&p1=V6NZKQ9Q> \\t \\r\\n'\n",
            "         ' '\n",
            "         '<https://landing.adobe.com/dam/global/images/creativity-for-all.footer.desktop.1200x600.png> \\t\\r\\n'\n",
            "         ' '\n",
            "         '<https://landing.adobe.com/dam/global/images/adobe-logo.classic.160x222.png> \\t\\r\\n'\n",
            "         ' '\n",
            "         '<https://t-info.mail.adobe.com/r/?id=h9e60a857,dec0c83d,bd2dcb49> \\t  \\t  '\n",
            "         '<https://t-info.mail.adobe.com/r/?id=h9e60a857,dec0c83d,bd2dcb4a> \\t  \\t  '\n",
            "         '<https://t-info.mail.adobe.com/r/?id=h9e60a857,dec0c83d,bd2dcb4b> \\t \\r\\n'\n",
            "         'Adobe services, like Adobe Creative Cloud, are available only to '\n",
            "         'users 13 and older. Use of Adobe services and applications requires '\n",
            "         'agreement with the applicable Terms of Use '\n",
            "         '<https://t-info.mail.adobe.com/r/?id=h9e60a857,dec0c83d,bd2dcb4c>  '\n",
            "         'and the Adobe Privacy Policy '\n",
            "         '<https://t-info.mail.adobe.com/r/?id=h9e60a857,dec0c83d,bd2dcb4d> '\n",
            "         '.\\r\\n'\n",
            "         '\\r\\n'\n",
            "         'Adobe, the Adobe logo, Creative Cloud, the Creative Cloud logo, and '\n",
            "         'Photoshop are either registered trademarks or trademarks of Adobe in '\n",
            "         'the United States and/or other countries. All other trademarks are '\n",
            "         'the property of their respective owners.\\r\\n'\n",
            "         '\\r\\n'\n",
            "         'This is a marketing email from Adobe, 345 Park Avenue, San Jose, CA '\n",
            "         '95110 USA. Click here to unsubscribe. '\n",
            "         '<https://t-info.mail.adobe.com/r/?id=h9e60a857,dec0c83d,bd2dcb4e&p1=gevy.loslabios@live.com&p2=%40h0%2BHlDSwjMS05uHinGkwPgLaaBDzuNOnVxbLMLfwPUc%3D&p3=>  '\n",
            "         'Please review the Adobe Privacy Policy '\n",
            "         '<https://t-info.mail.adobe.com/r/?id=h9e60a857,dec0c83d,bd2dcb4f> '\n",
            "         '.\\r\\n'\n",
            "         '\\r\\n'\n",
            "         'To ensure email delivery, add mail@mail.adobe.com '\n",
            "         '<https://t-info.mail.adobe.com/r/?id=h9e60a857,dec0c83d,bd2dcb50>  '\n",
            "         'to your address book, contacts, or safe sender list. \\r\\n'\n",
            "         '\\r\\n'\n",
            "         'Read online '\n",
            "         '<https://t-info.mail.adobe.com/r/?id=h9e60a857,dec0c83d,bd2dcb51&p1=%40DbxsCvWW6TkwOVMcVFVHEKo57lAxCk9tLwXYkKr4Ms0%3D> \\t \\r\\n'\n",
            "         'A422646\\r\\n'\n",
            "         ' <https://t-info.mail.adobe.com/r/?id=h9e60a857,dec0c83d,1>  '\n",
            "         '<https://adobe.demdex.net/event?c_syncplacement=email&d_cid=813%01e8e43a87565d44f07f000101> \\r\\n',\n",
            " 'Date': 'Wed, 08 Sep 2021 16:52:31 +0000',\n",
            " 'Sender': '\"Adobe for Students\" <mail@mail.adobe.com>',\n",
            " 'Subject': 'Do it fast with Photoshop'}\n"
          ]
        }
      ]
    },
    {
      "cell_type": "code",
      "metadata": {
        "id": "1J6S5ruLIcXG"
      },
      "source": [
        "email_counter = 0 \n",
        "email_content = {}\n",
        "\n",
        "for email in emails:\n",
        "  msg = extract_msg.Message(\"emails/\"+email)\n",
        "  msg_sender = msg.sender\n",
        "  msg_date = msg.date\n",
        "  msg_subj = msg.subject\n",
        "  msg_message = msg.body   "
      ],
      "execution_count": null,
      "outputs": []
    },
    {
      "cell_type": "code",
      "metadata": {
        "id": "A1qThLNTINhO"
      },
      "source": [
        "# Test\n",
        "print('Sender: {}'.format(msg_sender))\n",
        "print('Sent On: {}'.format(msg_date))\n",
        "print('Subject: {}'.format(msg_subj))\n",
        "print('Body: {}'.format(msg_message))"
      ],
      "execution_count": null,
      "outputs": []
    },
    {
      "cell_type": "code",
      "metadata": {
        "id": "t_q0iKShxBVe"
      },
      "source": [
        "# Move parsed email to the archived folder\n",
        "# If sender tag returns a value good\n",
        "# If sent on "
      ],
      "execution_count": null,
      "outputs": []
    }
  ]
}